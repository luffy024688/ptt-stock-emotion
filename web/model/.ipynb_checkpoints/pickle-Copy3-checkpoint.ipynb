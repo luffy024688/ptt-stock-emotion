{
 "cells": [
  {
   "cell_type": "code",
   "execution_count": 1,
   "metadata": {},
   "outputs": [
    {
     "ename": "ModuleNotFoundError",
     "evalue": "No module named 'sklearn.externals.six'",
     "output_type": "error",
     "traceback": [
      "\u001b[0;31m---------------------------------------------------------------------------\u001b[0m",
      "\u001b[0;31mModuleNotFoundError\u001b[0m                       Traceback (most recent call last)",
      "\u001b[0;32m<ipython-input-1-119a5e97051d>\u001b[0m in \u001b[0;36m<module>\u001b[0;34m\u001b[0m\n\u001b[1;32m     17\u001b[0m \u001b[0;32mfrom\u001b[0m \u001b[0msklearn\u001b[0m \u001b[0;32mimport\u001b[0m \u001b[0mdatasets\u001b[0m\u001b[0;34m,\u001b[0m \u001b[0mlinear_model\u001b[0m\u001b[0;34m\u001b[0m\u001b[0;34m\u001b[0m\u001b[0m\n\u001b[1;32m     18\u001b[0m \u001b[0;32mimport\u001b[0m \u001b[0mpickle\u001b[0m\u001b[0;34m\u001b[0m\u001b[0;34m\u001b[0m\u001b[0m\n\u001b[0;32m---> 19\u001b[0;31m \u001b[0;32mfrom\u001b[0m \u001b[0msklearn\u001b[0m\u001b[0;34m.\u001b[0m\u001b[0mexternals\u001b[0m\u001b[0;34m.\u001b[0m\u001b[0msix\u001b[0m \u001b[0;32mimport\u001b[0m \u001b[0mStringIO\u001b[0m\u001b[0;34m\u001b[0m\u001b[0;34m\u001b[0m\u001b[0m\n\u001b[0m\u001b[1;32m     20\u001b[0m \u001b[0;32mfrom\u001b[0m \u001b[0mIPython\u001b[0m\u001b[0;34m.\u001b[0m\u001b[0mdisplay\u001b[0m \u001b[0;32mimport\u001b[0m \u001b[0mImage\u001b[0m\u001b[0;34m\u001b[0m\u001b[0;34m\u001b[0m\u001b[0m\n\u001b[1;32m     21\u001b[0m \u001b[0;32mfrom\u001b[0m \u001b[0msklearn\u001b[0m\u001b[0;34m.\u001b[0m\u001b[0mensemble\u001b[0m \u001b[0;32mimport\u001b[0m \u001b[0mRandomForestClassifier\u001b[0m\u001b[0;34m\u001b[0m\u001b[0;34m\u001b[0m\u001b[0m\n",
      "\u001b[0;31mModuleNotFoundError\u001b[0m: No module named 'sklearn.externals.six'"
     ]
    }
   ],
   "source": [
    "import matplotlib as mpl\n",
    "import matplotlib.pyplot as plt\n",
    "import numpy as np\n",
    "import datetime as dt\n",
    "import xlsxwriter\n",
    "import os\n",
    "import yfinance as yf\n",
    "import pandas as pd\n",
    "from sklearn.model_selection import train_test_split\n",
    "from sklearn.neighbors import KNeighborsClassifier\n",
    "from sklearn.linear_model import LogisticRegression\n",
    "from sklearn.svm import SVC\n",
    "from sklearn.naive_bayes import MultinomialNB\n",
    "from sklearn.preprocessing import MinMaxScaler\n",
    "from sklearn import tree\n",
    "from sklearn import svm, metrics\n",
    "from sklearn import datasets, linear_model\n",
    "import pickle\n",
    "from sklearn.externals.six import StringIO  \n",
    "from IPython.display import Image\n",
    "from sklearn.ensemble import RandomForestClassifier \n",
    "from sklearn.model_selection import cross_val_score\n",
    "import xlsxwriter\n",
    "import os"
   ]
  },
  {
   "cell_type": "code",
   "execution_count": 2,
   "metadata": {},
   "outputs": [],
   "source": [
    "xls = pd.ExcelFile('./df_full33.xlsx') \n",
    "all_data = pd.read_excel(xls, header = 0,encoding='latin-1')"
   ]
  },
  {
   "cell_type": "code",
   "execution_count": 3,
   "metadata": {},
   "outputs": [],
   "source": [
    "all_data = all_data[np.isfinite(all_data['Predicted_change_stock'])]\n",
    "all_data = all_data[np.isfinite(all_data['Buy/Sell'])]"
   ]
  },
  {
   "cell_type": "code",
   "execution_count": 4,
   "metadata": {},
   "outputs": [],
   "source": [
    "all_data.columns=['Date','Volume_stock','Pct_change_stock','Pct_change_stock_scaled','BI','BI_Simple','Predicted_change_stock','Buy/Sell']"
   ]
  },
  {
   "cell_type": "code",
   "execution_count": 5,
   "metadata": {},
   "outputs": [],
   "source": [
    "all_data=all_data.set_index('Date')"
   ]
  },
  {
   "cell_type": "code",
   "execution_count": 7,
   "metadata": {},
   "outputs": [
    {
     "data": {
      "text/html": [
       "<div>\n",
       "<style scoped>\n",
       "    .dataframe tbody tr th:only-of-type {\n",
       "        vertical-align: middle;\n",
       "    }\n",
       "\n",
       "    .dataframe tbody tr th {\n",
       "        vertical-align: top;\n",
       "    }\n",
       "\n",
       "    .dataframe thead th {\n",
       "        text-align: right;\n",
       "    }\n",
       "</style>\n",
       "<table border=\"1\" class=\"dataframe\">\n",
       "  <thead>\n",
       "    <tr style=\"text-align: right;\">\n",
       "      <th></th>\n",
       "      <th>Volume_stock</th>\n",
       "      <th>Pct_change_stock</th>\n",
       "      <th>Pct_change_stock_scaled</th>\n",
       "      <th>BI</th>\n",
       "      <th>BI_Simple</th>\n",
       "      <th>Predicted_change_stock</th>\n",
       "      <th>Buy/Sell</th>\n",
       "    </tr>\n",
       "    <tr>\n",
       "      <th>Date</th>\n",
       "      <th></th>\n",
       "      <th></th>\n",
       "      <th></th>\n",
       "      <th></th>\n",
       "      <th></th>\n",
       "      <th></th>\n",
       "      <th></th>\n",
       "    </tr>\n",
       "  </thead>\n",
       "  <tbody>\n",
       "    <tr>\n",
       "      <th>2017-03-30</th>\n",
       "      <td>2.471355e+10</td>\n",
       "      <td>-0.769674</td>\n",
       "      <td>-1.282415</td>\n",
       "      <td>-0.652383</td>\n",
       "      <td>-0.315392</td>\n",
       "      <td>0.507165</td>\n",
       "      <td>1.0</td>\n",
       "    </tr>\n",
       "    <tr>\n",
       "      <th>2017-03-31</th>\n",
       "      <td>1.964429e+10</td>\n",
       "      <td>0.507165</td>\n",
       "      <td>0.549321</td>\n",
       "      <td>-0.490564</td>\n",
       "      <td>-0.241003</td>\n",
       "      <td>0.619877</td>\n",
       "      <td>1.0</td>\n",
       "    </tr>\n",
       "    <tr>\n",
       "      <th>2017-04-01</th>\n",
       "      <td>2.068184e+10</td>\n",
       "      <td>0.619877</td>\n",
       "      <td>0.711016</td>\n",
       "      <td>-0.377763</td>\n",
       "      <td>-0.189189</td>\n",
       "      <td>0.732589</td>\n",
       "      <td>1.0</td>\n",
       "    </tr>\n",
       "    <tr>\n",
       "      <th>2017-04-02</th>\n",
       "      <td>2.171938e+10</td>\n",
       "      <td>0.732589</td>\n",
       "      <td>0.872711</td>\n",
       "      <td>0.058841</td>\n",
       "      <td>0.029851</td>\n",
       "      <td>0.845301</td>\n",
       "      <td>1.0</td>\n",
       "    </tr>\n",
       "    <tr>\n",
       "      <th>2017-04-03</th>\n",
       "      <td>2.275693e+10</td>\n",
       "      <td>0.845301</td>\n",
       "      <td>1.034406</td>\n",
       "      <td>-0.045120</td>\n",
       "      <td>-0.022901</td>\n",
       "      <td>0.958013</td>\n",
       "      <td>1.0</td>\n",
       "    </tr>\n",
       "    <tr>\n",
       "      <th>...</th>\n",
       "      <td>...</td>\n",
       "      <td>...</td>\n",
       "      <td>...</td>\n",
       "      <td>...</td>\n",
       "      <td>...</td>\n",
       "      <td>...</td>\n",
       "      <td>...</td>\n",
       "    </tr>\n",
       "    <tr>\n",
       "      <th>2018-04-29</th>\n",
       "      <td>1.324092e+10</td>\n",
       "      <td>-0.084303</td>\n",
       "      <td>-0.299191</td>\n",
       "      <td>-0.050010</td>\n",
       "      <td>-0.025316</td>\n",
       "      <td>-0.123486</td>\n",
       "      <td>-1.0</td>\n",
       "    </tr>\n",
       "    <tr>\n",
       "      <th>2018-04-30</th>\n",
       "      <td>1.330010e+10</td>\n",
       "      <td>-0.123486</td>\n",
       "      <td>-0.355402</td>\n",
       "      <td>-0.159428</td>\n",
       "      <td>-0.080460</td>\n",
       "      <td>-0.162669</td>\n",
       "      <td>-1.0</td>\n",
       "    </tr>\n",
       "    <tr>\n",
       "      <th>2018-05-01</th>\n",
       "      <td>1.335928e+10</td>\n",
       "      <td>-0.162669</td>\n",
       "      <td>-0.411614</td>\n",
       "      <td>-0.191055</td>\n",
       "      <td>-0.096154</td>\n",
       "      <td>-0.201852</td>\n",
       "      <td>-1.0</td>\n",
       "    </tr>\n",
       "    <tr>\n",
       "      <th>2018-05-02</th>\n",
       "      <td>1.341846e+10</td>\n",
       "      <td>-0.201852</td>\n",
       "      <td>-0.467825</td>\n",
       "      <td>-0.489970</td>\n",
       "      <td>-0.240464</td>\n",
       "      <td>0.856785</td>\n",
       "      <td>1.0</td>\n",
       "    </tr>\n",
       "    <tr>\n",
       "      <th>2018-05-03</th>\n",
       "      <td>1.399856e+10</td>\n",
       "      <td>0.856785</td>\n",
       "      <td>1.050881</td>\n",
       "      <td>-0.469238</td>\n",
       "      <td>-0.230678</td>\n",
       "      <td>-0.067375</td>\n",
       "      <td>-1.0</td>\n",
       "    </tr>\n",
       "  </tbody>\n",
       "</table>\n",
       "<p>400 rows × 7 columns</p>\n",
       "</div>"
      ],
      "text/plain": [
       "            Volume_stock  Pct_change_stock  Pct_change_stock_scaled        BI  \\\n",
       "Date                                                                            \n",
       "2017-03-30  2.471355e+10         -0.769674                -1.282415 -0.652383   \n",
       "2017-03-31  1.964429e+10          0.507165                 0.549321 -0.490564   \n",
       "2017-04-01  2.068184e+10          0.619877                 0.711016 -0.377763   \n",
       "2017-04-02  2.171938e+10          0.732589                 0.872711  0.058841   \n",
       "2017-04-03  2.275693e+10          0.845301                 1.034406 -0.045120   \n",
       "...                  ...               ...                      ...       ...   \n",
       "2018-04-29  1.324092e+10         -0.084303                -0.299191 -0.050010   \n",
       "2018-04-30  1.330010e+10         -0.123486                -0.355402 -0.159428   \n",
       "2018-05-01  1.335928e+10         -0.162669                -0.411614 -0.191055   \n",
       "2018-05-02  1.341846e+10         -0.201852                -0.467825 -0.489970   \n",
       "2018-05-03  1.399856e+10          0.856785                 1.050881 -0.469238   \n",
       "\n",
       "            BI_Simple  Predicted_change_stock  Buy/Sell  \n",
       "Date                                                     \n",
       "2017-03-30  -0.315392                0.507165       1.0  \n",
       "2017-03-31  -0.241003                0.619877       1.0  \n",
       "2017-04-01  -0.189189                0.732589       1.0  \n",
       "2017-04-02   0.029851                0.845301       1.0  \n",
       "2017-04-03  -0.022901                0.958013       1.0  \n",
       "...               ...                     ...       ...  \n",
       "2018-04-29  -0.025316               -0.123486      -1.0  \n",
       "2018-04-30  -0.080460               -0.162669      -1.0  \n",
       "2018-05-01  -0.096154               -0.201852      -1.0  \n",
       "2018-05-02  -0.240464                0.856785       1.0  \n",
       "2018-05-03  -0.230678               -0.067375      -1.0  \n",
       "\n",
       "[400 rows x 7 columns]"
      ]
     },
     "execution_count": 7,
     "metadata": {},
     "output_type": "execute_result"
    }
   ],
   "source": [
    "all_data"
   ]
  },
  {
   "cell_type": "code",
   "execution_count": 11,
   "metadata": {},
   "outputs": [],
   "source": [
    "xls2 = pd.ExcelFile('./df_full_new2.xlsx')\n",
    "\n",
    "new_data = pd.read_excel(xls2, header = 0,encoding='latin-1')\n",
    "\n",
    "new_data = new_data[np.isfinite(new_data['預測漲跌點數'])]\n",
    "new_data = new_data[np.isfinite(new_data['Buy/Sell'])]\n",
    "\n",
    "X_test = np.array(all_data[['BI_Simple']]) \n",
    "Y_test = np.array(all_data[['Buy/Sell']])\n",
    "\n",
    "X_train = np.array(new_data[['BI_Simple']])\n",
    "Y_train = np.array(new_data[['Buy/Sell']])"
   ]
  },
  {
   "cell_type": "code",
   "execution_count": 12,
   "metadata": {},
   "outputs": [
    {
     "name": "stdout",
     "output_type": "stream",
     "text": [
      "train_pred acc 0.5050709939148073\n",
      "valid_pred acc 0.6225\n"
     ]
    }
   ],
   "source": [
    "# flatten the images\n",
    "n_samples = len(X_train)\n",
    "data = X_train.reshape((n_samples, -1))\n",
    "clf = LogisticRegression(random_state=42)\n",
    "\n",
    "# Learn the digits on the train subset\n",
    "clf.fit(X_train, Y_train.ravel())\n",
    "train_pred = clf.predict(X_train)\n",
    "print(\"train_pred acc\",metrics.accuracy_score(train_pred,Y_train))\n",
    "\n",
    "# Predict the value of the digit on the test subset\n",
    "valid_pred = clf.predict(X_test)\n",
    "print(\"valid_pred acc\",metrics.accuracy_score(valid_pred,Y_test))\n",
    "\n",
    "# Saving model\n",
    "with open(\"model3.pickle\",\"wb\") as f:\n",
    "    pickle.dump(clf, f, protocol=pickle.HIGHEST_PROTOCOL)"
   ]
  },
  {
   "cell_type": "code",
   "execution_count": 13,
   "metadata": {},
   "outputs": [
    {
     "name": "stdout",
     "output_type": "stream",
     "text": [
      "BI0.3226\n"
     ]
    },
    {
     "data": {
      "text/plain": [
       "array([1.])"
      ]
     },
     "execution_count": 13,
     "metadata": {},
     "output_type": "execute_result"
    }
   ],
   "source": [
    "b = np.array(float(input(\"BI\")))\n",
    "b1 = b.reshape((1, -1))\n",
    "c=clf.predict(b1)\n",
    "c"
   ]
  },
  {
   "cell_type": "code",
   "execution_count": 13,
   "metadata": {},
   "outputs": [
    {
     "data": {
      "text/plain": [
       "numpy.ndarray"
      ]
     },
     "execution_count": 13,
     "metadata": {},
     "output_type": "execute_result"
    }
   ],
   "source": [
    "type(X_train)"
   ]
  },
  {
   "cell_type": "code",
   "execution_count": null,
   "metadata": {},
   "outputs": [],
   "source": [
    "# Buy_or_Sell = logreg.fit(X_train, Y_train.ravel()) \n",
    "# outcome_logreg = (Buy_or_Sell.predict(all_data[['BI']]))\n",
    "# all_data['LogReg_prediction'] = outcome_logreg"
   ]
  },
  {
   "cell_type": "code",
   "execution_count": 31,
   "metadata": {},
   "outputs": [],
   "source": [
    "with open(\"model.pickle\",\"wb\") as f:\n",
    "    pickle.dump(logreg, f, protocol=pickle.HIGHEST_PROTOCOL)"
   ]
  }
 ],
 "metadata": {
  "kernelspec": {
   "display_name": "Python 3",
   "language": "python",
   "name": "python3"
  },
  "language_info": {
   "codemirror_mode": {
    "name": "ipython",
    "version": 3
   },
   "file_extension": ".py",
   "mimetype": "text/x-python",
   "name": "python",
   "nbconvert_exporter": "python",
   "pygments_lexer": "ipython3",
   "version": "3.6.10"
  }
 },
 "nbformat": 4,
 "nbformat_minor": 4
}
