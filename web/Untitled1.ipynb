{
 "cells": [
  {
   "cell_type": "code",
   "execution_count": 3,
   "metadata": {},
   "outputs": [],
   "source": [
    "import pandas as pd\n",
    "df = pd.read_csv('./data/article.csv')"
   ]
  },
  {
   "cell_type": "code",
   "execution_count": 5,
   "metadata": {},
   "outputs": [
    {
     "data": {
      "text/plain": [
       "44352"
      ]
     },
     "execution_count": 5,
     "metadata": {},
     "output_type": "execute_result"
    }
   ],
   "source": [
    "len(set(df.link))"
   ]
  },
  {
   "cell_type": "code",
   "execution_count": 9,
   "metadata": {},
   "outputs": [
    {
     "data": {
      "text/html": [
       "<div>\n",
       "<style scoped>\n",
       "    .dataframe tbody tr th:only-of-type {\n",
       "        vertical-align: middle;\n",
       "    }\n",
       "\n",
       "    .dataframe tbody tr th {\n",
       "        vertical-align: top;\n",
       "    }\n",
       "\n",
       "    .dataframe thead th {\n",
       "        text-align: right;\n",
       "    }\n",
       "</style>\n",
       "<table border=\"1\" class=\"dataframe\">\n",
       "  <thead>\n",
       "    <tr style=\"text-align: right;\">\n",
       "      <th></th>\n",
       "      <th>date</th>\n",
       "      <th>link</th>\n",
       "      <th>art</th>\n",
       "      <th>push</th>\n",
       "    </tr>\n",
       "  </thead>\n",
       "  <tbody>\n",
       "    <tr>\n",
       "      <th>35087</th>\n",
       "      <td>2021-03-11</td>\n",
       "      <td>https://www.ptt.cc//bbs/Stock/M.1615437730.A.8...</td>\n",
       "      <td>Re: [標的] 2340 光磊 ptt韭菜已停損多</td>\n",
       "      <td>85</td>\n",
       "    </tr>\n",
       "    <tr>\n",
       "      <th>35088</th>\n",
       "      <td>2021-03-11</td>\n",
       "      <td>https://www.ptt.cc//bbs/Stock/M.1615437790.A.3...</td>\n",
       "      <td>Re: [請益] 滿街都在說 \"要崩盤了\"</td>\n",
       "      <td>39</td>\n",
       "    </tr>\n",
       "    <tr>\n",
       "      <th>35089</th>\n",
       "      <td>2021-03-11</td>\n",
       "      <td>https://www.ptt.cc//bbs/Stock/M.1615438094.A.2...</td>\n",
       "      <td>Re: [請益] 小資族0050的投資方法</td>\n",
       "      <td>39</td>\n",
       "    </tr>\n",
       "    <tr>\n",
       "      <th>35090</th>\n",
       "      <td>2021-03-11</td>\n",
       "      <td>https://www.ptt.cc//bbs/Stock/M.1615440212.A.1...</td>\n",
       "      <td>[心得] 解套是不是超爽der</td>\n",
       "      <td>171</td>\n",
       "    </tr>\n",
       "    <tr>\n",
       "      <th>35091</th>\n",
       "      <td>2021-03-11</td>\n",
       "      <td>https://www.ptt.cc//bbs/Stock/M.1615440443.A.3...</td>\n",
       "      <td>Re: [請益] 小資族0050的投資方法</td>\n",
       "      <td>46</td>\n",
       "    </tr>\n",
       "    <tr>\n",
       "      <th>...</th>\n",
       "      <td>...</td>\n",
       "      <td>...</td>\n",
       "      <td>...</td>\n",
       "      <td>...</td>\n",
       "    </tr>\n",
       "    <tr>\n",
       "      <th>36034</th>\n",
       "      <td>2021-03-21</td>\n",
       "      <td>https://www.ptt.cc//bbs/Stock/M.1616292229.A.7...</td>\n",
       "      <td>Re: [標的] 2330台積電 做一周空</td>\n",
       "      <td>128</td>\n",
       "    </tr>\n",
       "    <tr>\n",
       "      <th>36035</th>\n",
       "      <td>2021-03-21</td>\n",
       "      <td>https://www.ptt.cc//bbs/Stock/M.1616294990.A.5...</td>\n",
       "      <td>[標的] 2816旺旺保 多</td>\n",
       "      <td>14</td>\n",
       "    </tr>\n",
       "    <tr>\n",
       "      <th>36036</th>\n",
       "      <td>2021-03-21</td>\n",
       "      <td>https://www.ptt.cc//bbs/Stock/M.1616295181.A.0...</td>\n",
       "      <td>Re: [標的] 2330台積電 做一周空</td>\n",
       "      <td>59</td>\n",
       "    </tr>\n",
       "    <tr>\n",
       "      <th>36037</th>\n",
       "      <td>2021-03-21</td>\n",
       "      <td>https://www.ptt.cc//bbs/Stock/M.1616299446.A.7...</td>\n",
       "      <td>[新聞] 股民心聲》外資要撤了 台積電、聯電該如</td>\n",
       "      <td>204</td>\n",
       "    </tr>\n",
       "    <tr>\n",
       "      <th>36038</th>\n",
       "      <td>2021-03-21</td>\n",
       "      <td>https://www.ptt.cc//bbs/Stock/M.1616299989.A.E...</td>\n",
       "      <td>[請益] E*TRADE 轉 Firstrade</td>\n",
       "      <td>22</td>\n",
       "    </tr>\n",
       "  </tbody>\n",
       "</table>\n",
       "<p>952 rows × 4 columns</p>\n",
       "</div>"
      ],
      "text/plain": [
       "             date                                               link  \\\n",
       "35087  2021-03-11  https://www.ptt.cc//bbs/Stock/M.1615437730.A.8...   \n",
       "35088  2021-03-11  https://www.ptt.cc//bbs/Stock/M.1615437790.A.3...   \n",
       "35089  2021-03-11  https://www.ptt.cc//bbs/Stock/M.1615438094.A.2...   \n",
       "35090  2021-03-11  https://www.ptt.cc//bbs/Stock/M.1615440212.A.1...   \n",
       "35091  2021-03-11  https://www.ptt.cc//bbs/Stock/M.1615440443.A.3...   \n",
       "...           ...                                                ...   \n",
       "36034  2021-03-21  https://www.ptt.cc//bbs/Stock/M.1616292229.A.7...   \n",
       "36035  2021-03-21  https://www.ptt.cc//bbs/Stock/M.1616294990.A.5...   \n",
       "36036  2021-03-21  https://www.ptt.cc//bbs/Stock/M.1616295181.A.0...   \n",
       "36037  2021-03-21  https://www.ptt.cc//bbs/Stock/M.1616299446.A.7...   \n",
       "36038  2021-03-21  https://www.ptt.cc//bbs/Stock/M.1616299989.A.E...   \n",
       "\n",
       "                              art  push  \n",
       "35087  Re: [標的] 2340 光磊 ptt韭菜已停損多    85  \n",
       "35088       Re: [請益] 滿街都在說 \"要崩盤了\"    39  \n",
       "35089      Re: [請益] 小資族0050的投資方法     39  \n",
       "35090             [心得] 解套是不是超爽der   171  \n",
       "35091      Re: [請益] 小資族0050的投資方法     46  \n",
       "...                           ...   ...  \n",
       "36034       Re: [標的] 2330台積電 做一周空   128  \n",
       "36035              [標的] 2816旺旺保 多    14  \n",
       "36036       Re: [標的] 2330台積電 做一周空    59  \n",
       "36037    [新聞] 股民心聲》外資要撤了 台積電、聯電該如   204  \n",
       "36038    [請益] E*TRADE 轉 Firstrade    22  \n",
       "\n",
       "[952 rows x 4 columns]"
      ]
     },
     "execution_count": 9,
     "metadata": {},
     "output_type": "execute_result"
    }
   ],
   "source": [
    "df[df.duplicated('link')]."
   ]
  },
  {
   "cell_type": "code",
   "execution_count": 11,
   "metadata": {},
   "outputs": [
    {
     "name": "stdout",
     "output_type": "stream",
     "text": [
      "2021-03-11\n",
      "https://www.ptt.cc//bbs/Stock/M.1615437730.A.890.html\n",
      "Re: [標的] 2340 光磊 ptt韭菜已停損多\n",
      "85\n"
     ]
    }
   ],
   "source": [
    "for x in df.loc[35087]:\n",
    "    print(x)"
   ]
  },
  {
   "cell_type": "code",
   "execution_count": 13,
   "metadata": {},
   "outputs": [
    {
     "data": {
      "text/html": [
       "<div>\n",
       "<style scoped>\n",
       "    .dataframe tbody tr th:only-of-type {\n",
       "        vertical-align: middle;\n",
       "    }\n",
       "\n",
       "    .dataframe tbody tr th {\n",
       "        vertical-align: top;\n",
       "    }\n",
       "\n",
       "    .dataframe thead th {\n",
       "        text-align: right;\n",
       "    }\n",
       "</style>\n",
       "<table border=\"1\" class=\"dataframe\">\n",
       "  <thead>\n",
       "    <tr style=\"text-align: right;\">\n",
       "      <th></th>\n",
       "      <th>date</th>\n",
       "      <th>link</th>\n",
       "      <th>art</th>\n",
       "      <th>push</th>\n",
       "    </tr>\n",
       "  </thead>\n",
       "  <tbody>\n",
       "    <tr>\n",
       "      <th>34135</th>\n",
       "      <td>2021-03-11</td>\n",
       "      <td>https://www.ptt.cc//bbs/Stock/M.1615437730.A.8...</td>\n",
       "      <td>Re: [標的] 2340 光磊 ptt韭菜已停損多</td>\n",
       "      <td>85</td>\n",
       "    </tr>\n",
       "    <tr>\n",
       "      <th>35087</th>\n",
       "      <td>2021-03-11</td>\n",
       "      <td>https://www.ptt.cc//bbs/Stock/M.1615437730.A.8...</td>\n",
       "      <td>Re: [標的] 2340 光磊 ptt韭菜已停損多</td>\n",
       "      <td>85</td>\n",
       "    </tr>\n",
       "  </tbody>\n",
       "</table>\n",
       "</div>"
      ],
      "text/plain": [
       "             date                                               link  \\\n",
       "34135  2021-03-11  https://www.ptt.cc//bbs/Stock/M.1615437730.A.8...   \n",
       "35087  2021-03-11  https://www.ptt.cc//bbs/Stock/M.1615437730.A.8...   \n",
       "\n",
       "                              art  push  \n",
       "34135  Re: [標的] 2340 光磊 ptt韭菜已停損多    85  \n",
       "35087  Re: [標的] 2340 光磊 ptt韭菜已停損多    85  "
      ]
     },
     "execution_count": 13,
     "metadata": {},
     "output_type": "execute_result"
    }
   ],
   "source": [
    "df[df.link=='https://www.ptt.cc//bbs/Stock/M.1615437730.A.890.html']"
   ]
  },
  {
   "cell_type": "code",
   "execution_count": null,
   "metadata": {},
   "outputs": [],
   "source": []
  }
 ],
 "metadata": {
  "kernelspec": {
   "display_name": "Python 3",
   "language": "python",
   "name": "python3"
  },
  "language_info": {
   "codemirror_mode": {
    "name": "ipython",
    "version": 3
   },
   "file_extension": ".py",
   "mimetype": "text/x-python",
   "name": "python",
   "nbconvert_exporter": "python",
   "pygments_lexer": "ipython3",
   "version": "3.6.10"
  }
 },
 "nbformat": 4,
 "nbformat_minor": 4
}
